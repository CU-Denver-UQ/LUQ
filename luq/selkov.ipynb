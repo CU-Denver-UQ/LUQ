{
 "cells": [
  {
   "cell_type": "code",
   "execution_count": null,
   "metadata": {},
   "outputs": [],
   "source": [
    "# Copyright 2019 Steven Mattis and Troy Butler\n",
    "\n",
    "import numpy as np\n",
    "import dynamical_systems as ds\n",
    "from luq import *"
   ]
  },
  {
   "cell_type": "code",
   "execution_count": null,
   "metadata": {},
   "outputs": [],
   "source": [
    "# Uniformly sample the parameter samples to form a \"prediction\" or \"test\" set\n",
    "num_samples = int(500)\n",
    "\n",
    "params = np.random.uniform(size=(num_samples, 2))\n",
    "params[:, 0] = 0.1 * params[:, 0] + 0.05\n",
    "params[:, 1] = 0.95 * params[:, 1] + 0.05\n",
    "ics = 2.0 * np.random.uniform(size=(num_samples, 2))\n",
    "\n",
    "# Construct the predicted time series data\n",
    "num_time_preds = int(1000)  # number of predictions (uniformly space) between [time_start,time_end]\n",
    "time_start = 0.5\n",
    "time_end = 40.0\n",
    "times = np.linspace(time_start, time_end, num_time_preds)\n",
    "\n",
    "phys = ds.Selkov()\n",
    "predicted_time_series = phys.solve(ics=ics, params=params, t_eval=times)"
   ]
  },
  {
   "cell_type": "code",
   "execution_count": null,
   "metadata": {},
   "outputs": [],
   "source": [
    "num_obs = int(500)\n",
    "\n",
    "true_a = 2\n",
    "true_b = 2\n",
    "\n",
    "params_obs = np.random.beta(size=(num_obs, 2), a=true_a, b=true_b)\n",
    "params_obs[:, 0] = 0.1 * params_obs[:, 0] + 0.05\n",
    "params_obs[:, 1] = 0.95 * params_obs[:, 1] + 0.05\n",
    "ics_obs = 2.0 * np.random.beta(size=(num_obs, 2), a=true_a, b=true_b)\n",
    "\n",
    "\n",
    "observed_time_series = phys.solve(ics=ics_obs, params=params_obs, t_eval=times)\n",
    "\n",
    "# Add noise if desired\n",
    "with_noise = False\n",
    "noise_stdev = 0.05\n",
    "\n",
    "if with_noise:\n",
    "    observed_time_series += noise_stdev * np.random.randn(num_obs)"
   ]
  },
  {
   "cell_type": "code",
   "execution_count": null,
   "metadata": {},
   "outputs": [],
   "source": [
    "# Use LUQ to learn dynamics and QoIs\n",
    "learn = LUQ(predicted_time_series, observed_time_series, times)\n",
    "\n",
    "# time array indices over which to use\n",
    "time_start_idx = 800\n",
    "time_end_idx = 999\n",
    "\n",
    "# Clean data\n",
    "learn.clean_data(time_start_idx=time_start_idx, time_end_idx=time_end_idx,\n",
    "                 num_clean_obs=100, tol=3.0e-2, min_knots=15, max_knots=40)"
   ]
  },
  {
   "cell_type": "code",
   "execution_count": null,
   "metadata": {},
   "outputs": [],
   "source": [
    "learn.dynamics(cluster_method='kmeans', kwargs={'n_clusters': 6, 'n_init': 10})"
   ]
  },
  {
   "cell_type": "code",
   "execution_count": null,
   "metadata": {},
   "outputs": [],
   "source": [
    "import matplotlib.pyplot as plt\n",
    "\n",
    "for j in range(learn.num_clusters):\n",
    "    plt.figure()\n",
    "    for i in range(num_samples):\n",
    "        if learn.predict_labels[i] == j:\n",
    "            plt.plot(learn.clean_times, learn.clean_predictions[i, :])"
   ]
  },
  {
   "cell_type": "code",
   "execution_count": null,
   "metadata": {},
   "outputs": [],
   "source": [
    "predict_map, obs_map = learn.learn_qois_and_transform(num_qoi=3)"
   ]
  },
  {
   "cell_type": "code",
   "execution_count": null,
   "metadata": {},
   "outputs": [],
   "source": [
    "learn.generate_kdes()\n",
    "learn.compute_r()"
   ]
  },
  {
   "cell_type": "code",
   "execution_count": null,
   "metadata": {},
   "outputs": [],
   "source": []
  }
 ],
 "metadata": {
  "kernelspec": {
   "display_name": "Python 3",
   "language": "python",
   "name": "python3"
  },
  "language_info": {
   "codemirror_mode": {
    "name": "ipython",
    "version": 3
   },
   "file_extension": ".py",
   "mimetype": "text/x-python",
   "name": "python",
   "nbconvert_exporter": "python",
   "pygments_lexer": "ipython3",
   "version": "3.6.9"
  }
 },
 "nbformat": 4,
 "nbformat_minor": 2
}
