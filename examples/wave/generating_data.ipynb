{
 "cells": [
  {
   "cell_type": "code",
   "execution_count": null,
   "id": "b32a23bb-da26-4532-8bcf-d94d2e404631",
   "metadata": {},
   "outputs": [],
   "source": [
    "import numpy as np\n",
    "from scipy.stats import norm, beta\n",
    "from scipy.stats import gaussian_kde as GKDE\n",
    "from scipy.integrate import quadrature\n",
    "import matplotlib.pyplot as plt\n",
    "\n",
    "# colorblind friendly color palette\n",
    "c = ['#377eb8', '#ff7f00', '#4daf4a',\n",
    "                  '#f781bf', '#a65628', '#984ea3',\n",
    "                  '#999999', '#e41a1c', '#dede00']\n",
    "\n",
    "# setup fontsizes for plots\n",
    "plt_params = {'legend.fontsize': 14,\n",
    "          'figure.figsize': (10,8), #(6.4, 4.8),\n",
    "         'axes.labelsize': 16,\n",
    "         'axes.titlesize': 16,\n",
    "         'xtick.labelsize': 14,\n",
    "         'ytick.labelsize': 14}\n",
    "plt.rcParams.update(plt_params)"
   ]
  },
  {
   "cell_type": "markdown",
   "id": "b26b2750-c28a-4f86-a7b8-1f48500399dc",
   "metadata": {},
   "source": [
    "# Problem Details"
   ]
  },
  {
   "cell_type": "markdown",
   "id": "0e468c34-b2eb-4c8f-9697-f326f9c2e499",
   "metadata": {},
   "source": [
    "## Finite Difference Scheme"
   ]
  },
  {
   "cell_type": "markdown",
   "id": "9e726d65-1c3a-473f-8201-a9569dc0b409",
   "metadata": {},
   "source": [
    "<!-- u_np1[1:N_x,1:N_y] = 2*u_n[1:N_x,1:N_y] - (u_n[1:N_x,1:N_y] - 2*dt*V_init[1:N_x,1:N_y]) + Cx2*(  0.5*(q[1:N_x,1:N_y] + q[2:N_x+1,1:N_y ])*(u_n[2:N_x+1,1:N_y] - u_n[1:N_x,1:N_y])  - 0.5*(q[0:N_x -1,1:N_y] + q[1:N_x,1:N_y ])*(u_n[1:N_x,1:N_y] - u_n[0:N_x -1,1:N_y]) ) + Cy2*(  0.5*(q[1:N_x,1:N_y] + q[1:N_x ,2:N_y+1])*(u_n[1:N_x,2:N_y+1] - u_n[1:N_x,1:N_y])  - 0.5*(q[1:N_x,0:N_y -1] + q[1:N_x ,1:N_y])*(u_n[1:N_x,1:N_y] - u_n[1:N_x,0:N_y -1]) ) -->\n",
    "\n",
    "Define $dx=dy=0.05$ and $dt=0.005$. We discretize as $x_n=ndx$ and $y_m=mdy$ for $n,m=0,1,\\dots,100$ and $t_k=kdt$ for $k=0,1,\\dots,1400$ and define $u_{n,m}^k=u(x_n,y_m,t_k)$. Using a standard centered finite-difference scheme, we obtain $$u_{n,m}^{k+1}=2u_{n,m}^k-u_{n,m}^{k-1}+\\dfrac{dt^2}{dx^2}\\left(u_{n+1,m}^k-2u_{n,m}^k+u_{n-1,m}^k\\right)+\\dfrac{dt^2}{dy^2}\\left(u_{n,m+1}^k-2u_{n,m}^k+u_{n,m-1}^k\\right)$$\n",
    "for $n,m=1,\\dots,99$ and $k=1,\\dots,1400$ where $u_{n,m}^{-1}$ is taken as $u_{n,m}^{-1}=u_{n,m}^1$ since the initial wave velocity is zero everywhere. The boundary conditions then require $u_{0,0}^k=u_{0,100}^k=u_{100,0}^k=u_{100,100}^k=0$ for $k=1,\\dots,1400$ while the initial condition requires $u_{n,m}^0=0.2\\text{exp}\\left(-10\\left(\\left(x_n-a\\right)^2+\\left(y_m-b\\right)^2\\right)\\right)$."
   ]
  },
  {
   "cell_type": "markdown",
   "id": "74e4bf9d-9722-4b77-b7df-07cc151584f4",
   "metadata": {},
   "source": [
    "## Defining Model Solve Function"
   ]
  },
  {
   "cell_type": "code",
   "execution_count": null,
   "id": "39206c98-4a70-46e0-8412-f093c9f8b4d4",
   "metadata": {},
   "outputs": [],
   "source": [
    "# defining model solve function\n",
    "dx = 0.05\n",
    "dy = 0.05\n",
    "dt = 0.005 # satifies CFL condition\n",
    "\n",
    "xn = np.linspace(0,5.0,101) # 101 = length in x / dx\n",
    "ym = np.linspace(0,5.0,101)\n",
    "tk = np.linspace(0,7.0,1401) # 1401 = length in t / dt\n",
    "\n",
    "# defining model solve on 101x101 uniform mesh of [0,5]^2 for t = 0 to t = 7 with dt = 0.005\n",
    "def M(a,b):\n",
    "    # initializing the model solution\n",
    "    # using Dirichlet boundary conditions,so initializing with zeros means boundary values are set\n",
    "    u = np.zeros((101,101,1401))\n",
    "    \n",
    "    # iterate through times; t here is equivalent to time and time index\n",
    "    for t in range(1401):\n",
    "        \n",
    "        # if t = 0, use initial condition modeling wave droplet\n",
    "        if t == 0:\n",
    "            mesh = np.meshgrid(xn[1:-1],ym[1:-1])\n",
    "            u[1:-1,1:-1,t] = 0.2*np.exp(-10*((mesh[0].T-a)**2+(mesh[1].T-b)**2))\n",
    "        \n",
    "        # else solve model using finite-difference scheme\n",
    "        else:\n",
    "            u[1:-1,1:-1,t] = 2 * u[1:-1,1:-1,t-1] - u[1:-1,1:-1,max(0,t-2)] \\\n",
    "                + dt**2 / dx**2 * (u[2:,1:-1,t-1] - 2 * u[1:-1,1:-1,t-1] + u[:-2,1:-1,t-1]) \\\n",
    "                + dt**2 / dy**2 * (u[1:-1,2:,t-1] - 2 * u[1:-1,1:-1,t-1] + u[1:-1,:-2,t-1])\n",
    "    return u"
   ]
  },
  {
   "cell_type": "code",
   "execution_count": null,
   "id": "0ef01e71-e636-4367-ab3f-98a69a1519e0",
   "metadata": {},
   "outputs": [],
   "source": [
    "# indexing for extracting data on different grid sizes\n",
    "\n",
    "# indexing function for flattening data\n",
    "def idx_at(x,y):\n",
    "    idx = []\n",
    "    idx.append((x / dx).astype(int))\n",
    "    idx.append((y / dy).astype(int))\n",
    "    return idx\n",
    "\n",
    "# using indexing function to extract data on uniformly-spaced mesh given by delta\n",
    "def create_idx(delta):\n",
    "    N = (5-delta)/delta \n",
    "    # note: only delta such that (5-delta)/delta is int can be used (or does not change value when cast as int) \n",
    "    # any other delta value requires extrapolation\n",
    "    pts = np.linspace(delta,5-delta,int(N))\n",
    "    grid_pts = np.meshgrid(pts,pts)\n",
    "    idx = idx_at(grid_pts[0],grid_pts[1])\n",
    "    return [idx[0].flatten(), idx[1].flatten()]"
   ]
  },
  {
   "cell_type": "markdown",
   "id": "17ac5b9a-a048-49f3-a24d-55b2fcb717a1",
   "metadata": {},
   "source": [
    "# Creating Data-Generating Samples"
   ]
  },
  {
   "cell_type": "markdown",
   "id": "bace4901-5f8b-4807-969f-31a3d6bdd91c",
   "metadata": {},
   "source": [
    "## Procedure Details"
   ]
  },
  {
   "cell_type": "markdown",
   "id": "55d7c35a-bdc0-4f80-9800-b72a168a9728",
   "metadata": {},
   "source": [
    "Before creating the data-generating samples used in the problem, we inspect the range of total variation (TV) metrics between Gaussian kernel density estimations (KDEs) and the exact data-generating distributions using 200 samples."
   ]
  },
  {
   "cell_type": "code",
   "execution_count": null,
   "id": "f87dea18-c6cc-4722-a2ec-bc7dca6df836",
   "metadata": {},
   "outputs": [],
   "source": [
    "# creating different sets of samples along with KDE's and exact DG densities, joints and marginals\n",
    "num_obs_samples = 200\n",
    "kde_dg = []\n",
    "kde_param_marginals = []\n",
    "\n",
    "np.random.seed(1234)\n",
    "params_full = np.random.uniform(0.0, 5.0, (2,int(1E4))) # large number of uniform samples of parameter space \n",
    "\n",
    "exact_param_marginals = [lambda x : beta.pdf((x-1)/2,2,5)/2, # exact parameter marginals for a and b\n",
    "                         lambda x : norm.pdf(x,2.5,0.5)]\n",
    "exact_dg = lambda x, y : exact_param_marginals[0](x)*exact_param_marginals[1](y) # exact joint data-generating density\n",
    "exact_dg = exact_dg(params_full[0,:],params_full[1,:]) # evaluate at samples for computing TV\n",
    "for i in range(int(1E3)):\n",
    "    params_obs = np.vstack([2 * np.random.beta(a=2, b=5, size=num_obs_samples) + 1, # temporary set of 200 observed samples\n",
    "                             np.random.normal(loc=2.5, scale=0.5, size=num_obs_samples)])\n",
    "    kde_dg.append(GKDE(params_obs)(params_full)) # KDE's of joints\n",
    "\n",
    "    # KDEs of true marginals\n",
    "    kde_param_marginals.append([])\n",
    "    for j in range(params_obs.shape[0]):\n",
    "            kde_param_marginals[i].append(GKDE(params_obs[j,:]))"
   ]
  },
  {
   "cell_type": "code",
   "execution_count": null,
   "id": "febd15c8-2bce-4b1d-ab9b-7b6546bfc63d",
   "metadata": {},
   "outputs": [],
   "source": [
    "# calculating TV metric between updated and exact joint distributions\n",
    "TVs = []\n",
    "for i in range(len(kde_dg)):\n",
    "    # computing TV for each set of samples using MC integration\n",
    "    TV = np.abs(kde_dg[i]-exact_dg)/2\n",
    "    TVs.append(np.mean(TV)*25)\n",
    "\n",
    "plt.figure()\n",
    "plt.hist(TVs)\n",
    "plt.xlabel('TV')\n",
    "plt.ylabel('count')\n",
    "plt.title('TV values between KDE and exact DG joint densities')"
   ]
  },
  {
   "cell_type": "code",
   "execution_count": null,
   "id": "1848e9c1-f185-4f28-92ce-9d3a5704d45a",
   "metadata": {},
   "outputs": [],
   "source": [
    "# analyzing distribution of TV's between KDE and exact of DG marginals\n",
    "marginal_TVs = []\n",
    "for j in range(1000):\n",
    "    marginal_TVs.append([])\n",
    "    for i in range(params_full.shape[0]):\n",
    "        # computing TV between KDE and exact DG marginal densities directly\n",
    "        diff = lambda x : np.abs(kde_param_marginals[j][i](x)-exact_param_marginals[i](x))\n",
    "        TV, _ = quadrature(diff, 0.0, 5.0, tol=1e-2)\n",
    "        marginal_TVs[j].append(TV/2)\n",
    "\n",
    "# plotting histogram\n",
    "marginal_TVs = np.array(marginal_TVs)\n",
    "param_labels = [r'$a$', r'$b$']\n",
    "for i in range(2):\n",
    "    plt.figure()\n",
    "    plt.hist(marginal_TVs[:,i])\n",
    "    plt.xlabel('TV')\n",
    "    plt.ylabel('count')\n",
    "    plt.title('TV values between KDE and exact DG marginal densities for '+param_labels[i])"
   ]
  },
  {
   "cell_type": "markdown",
   "id": "e3be8d3a-4b73-478b-a7e6-3db173176b40",
   "metadata": {},
   "source": [
    "## Data-Generating Samples Chosen"
   ]
  },
  {
   "cell_type": "markdown",
   "id": "97d0eed9-3b0f-470c-b8a7-2dd9ded2f24d",
   "metadata": {},
   "source": [
    "Based on the above data, data-generating samples are chosen using different numpy.random.seed values that generate samples such that the TV between the KDE using the samples and the exact data-generating joint distribution is between 0.10 and 0.125. "
   ]
  },
  {
   "cell_type": "code",
   "execution_count": null,
   "id": "3b767288-b727-4f87-b961-afbf20a28d44",
   "metadata": {
    "tags": []
   },
   "outputs": [],
   "source": [
    "# parameter samples for construction of pi_obs\n",
    "\n",
    "np.random.seed(12345678)\n",
    "params_obs = np.vstack([2 * np.random.beta(a=2, b=5, size=num_obs_samples) + 1,\n",
    "                         np.random.normal(loc=2.5, scale=0.5, size=num_obs_samples)])\n",
    "\n",
    "# parameter samples of pi_init\n",
    "\n",
    "# its not necessary to compute samples of pi_init here, but data was originally generated in this manner\n",
    "# so that computing the pi_init samples allows for reproducibility in current state\n",
    "num_samples = int(1E3)\n",
    "np.random.seed(123456)\n",
    "params = np.random.uniform(low=0.0,high=5.0,size=(2,num_samples)) \n",
    "\n",
    "# pi_obs samples w/ noise\n",
    "obs_clean = np.zeros((num_obs_samples,81,14))\n",
    "obs = np.zeros((num_obs_samples,81,14))\n",
    "\n",
    "# observed data corresponds to 9x9 grid with spatial steps of size 0.5\n",
    "idx = create_idx(0.5)\n",
    "\n",
    "for i in range(num_obs_samples):\n",
    "    tmp = M(params_obs[0,i],params_obs[1,i])\n",
    "    obs_clean[i,:,:] = tmp[idx[0],idx[1],100::100]\n",
    "    obs[i,:,:] = obs_clean[i,:,:] + np.random.normal(0.0,2.5e-3,obs_clean[i,:,:].shape)\n",
    "    print(f'sample {i} done')\n",
    "\n",
    "# obs_clean.dump('dg_samples/obs_clean')\n",
    "# obs.dump('dg_samples/obs')"
   ]
  },
  {
   "cell_type": "code",
   "execution_count": null,
   "id": "2e5b1a75-8354-48b1-ad95-cc5f7c2eed3c",
   "metadata": {},
   "outputs": [],
   "source": [
    "# computing TV between exact and KDE of DG, joint and marginals\n",
    "\n",
    "# computing densities\n",
    "kde_param_marginals = []\n",
    "\n",
    "np.random.seed(1234)\n",
    "params_full = np.random.uniform(low=0.0, high=5.0, size=(2,10000)) # large number of uniform samples of parameter space \n",
    "\n",
    "exact_dg = lambda x, y : exact_param_marginals[0](x)*exact_param_marginals[1](y) # exact joint data-generating density\n",
    "exact_dg = exact_dg(params_full[0,:],params_full[1,:]) # evaluate at samples for computing TV\n",
    "\n",
    "kde_dg = GKDE(params_obs)(params_full) # KDE's of joints\n",
    "        \n",
    "# calculating TV metric between updated and exact joint distributions\n",
    "TV = np.abs(kde_dg-exact_dg)/2\n",
    "TV = np.mean(TV)*25\n",
    "\n",
    "param_labels = [r'$a$', r'$b$']\n",
    "print(f'TV between exact and KDE of DG joint densities: {TV}')\n",
    "print()\n",
    "\n",
    "# KDEs of true marginals\n",
    "kde_param_marginals = []\n",
    "for i in range(params_obs.shape[0]):\n",
    "        kde_param_marginals.append(GKDE(params_obs[i,:]))\n",
    "\n",
    "marginal_TV = []\n",
    "for i in range(params_obs.shape[0]):\n",
    "    # computing TV between KDE and exact DG marginal densities directly\n",
    "    diff = lambda x : np.abs(kde_param_marginals[i](x)-exact_param_marginals[i](x))\n",
    "    TV_, _ = quadrature(diff, 0.0, 5.0, tol=1e-2)\n",
    "    marginal_TV.append(TV_/2)\n",
    "\n",
    "for i in range(params_obs.shape[0]):\n",
    "    print(f'TV between exact and KDE of DG marginal densities for {param_labels[i]}: {marginal_TV[i]}')"
   ]
  },
  {
   "cell_type": "code",
   "execution_count": null,
   "id": "04c8532a-64ef-4ed7-add2-79689e0c2156",
   "metadata": {},
   "outputs": [],
   "source": [
    "# recreating histogram of TV values with chosen sample TV value shown\n",
    "\n",
    "plt.figure()\n",
    "plt.hist(TVs)\n",
    "plt.vlines(TV, 0, 300, colors=c[1], label='TV between KDE used and exact DG density')\n",
    "plt.xlabel('TV')\n",
    "plt.ylabel('count')\n",
    "plt.title('TV values between KDE and exact DG joint densities')\n",
    "plt.legend()\n",
    "plt.tight_layout()\n",
    "# plt.savefig('plots/joint_TV_hist.png', bbox_inches='tight')"
   ]
  },
  {
   "cell_type": "code",
   "execution_count": null,
   "id": "da46ff66-51bb-458a-aaf3-6f389a708e15",
   "metadata": {},
   "outputs": [],
   "source": [
    "# plotting histogram with representative TV line\n",
    "\n",
    "marginal_TVs = np.array(marginal_TVs)\n",
    "param_labels = [r'$a$', r'$b$']\n",
    "param_str = ['a', 'b']\n",
    "\n",
    "for i in range(2):\n",
    "    plt.figure()\n",
    "    plt.hist(marginal_TVs[:,i])\n",
    "    plt.vlines(marginal_TV[i], 0, 300, colors=c[1], label='TV between KDE used and exact DG density')\n",
    "    plt.xlabel('TV')\n",
    "    plt.ylabel('count')\n",
    "    plt.title('TV values between KDE and exact DG marginal densities for '+param_labels[i])\n",
    "    plt.legend()\n",
    "    plt.tight_layout()\n",
    "    # fn = 'plots/marginal_TV_hist_' + param_str[i] + '.png'\n",
    "    # plt.savefig(fn, bbox_inches='tight')"
   ]
  }
 ],
 "metadata": {
  "kernelspec": {
   "display_name": "Python 3 (ipykernel)",
   "language": "python",
   "name": "python3"
  },
  "language_info": {
   "codemirror_mode": {
    "name": "ipython",
    "version": 3
   },
   "file_extension": ".py",
   "mimetype": "text/x-python",
   "name": "python",
   "nbconvert_exporter": "python",
   "pygments_lexer": "ipython3",
   "version": "3.10.6"
  }
 },
 "nbformat": 4,
 "nbformat_minor": 5
}
