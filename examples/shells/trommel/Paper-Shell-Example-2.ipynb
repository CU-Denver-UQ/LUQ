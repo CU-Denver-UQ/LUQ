{
 "cells": [
  {
   "cell_type": "code",
   "execution_count": null,
   "metadata": {},
   "outputs": [],
   "source": [
    "# mat73 required to read data; run pip install line if not installed\n",
    "\n",
    "# !pip install mat73  # For reading in Matlab 7.3 files\n",
    "import mat73 as mat73"
   ]
  },
  {
   "cell_type": "code",
   "execution_count": null,
   "metadata": {
    "tags": []
   },
   "outputs": [],
   "source": [
    "# The libraries we will use\n",
    "import numpy as np\n",
    "import scipy.io as sio\n",
    "\n",
    "# importing LUQ\n",
    "from luq.luq import *\n",
    "\n",
    "# distributions for data-generating samples and comparing approx vs true solutions\n",
    "from scipy.stats import norm, beta\n",
    "\n",
    "# Gaussian KDE \n",
    "from scipy.stats import gaussian_kde as GKDE\n",
    "\n",
    "# quadrautre for TV metric\n",
    "from scipy.integrate import quadrature\n",
    "\n",
    "# plotting\n",
    "import matplotlib.pyplot as plt\n",
    "import matplotlib.tri as tri\n",
    "import ipywidgets as wd\n",
    "\n",
    "# colorblind friendly color palette\n",
    "c = ['#377eb8', '#ff7f00', '#4daf4a',\n",
    "                  '#f781bf', '#a65628', '#984ea3',\n",
    "                  '#999999', '#e41a1c', '#dede00']\n",
    "\n",
    "# Set up fontsizes for plots\n",
    "plt_params = {'legend.fontsize': 14,\n",
    "          'figure.figsize': (6.4, 4.8),\n",
    "         'axes.labelsize': 16,\n",
    "         'axes.titlesize': 16,\n",
    "         'xtick.labelsize': 14,\n",
    "         'ytick.labelsize': 14}\n",
    "plt.rcParams.update(plt_params)\n",
    "\n",
    "np.random.seed(123456)"
   ]
  },
  {
   "cell_type": "code",
   "execution_count": null,
   "metadata": {
    "tags": []
   },
   "outputs": [],
   "source": [
    "# %matplotlib widget"
   ]
  },
  {
   "cell_type": "markdown",
   "metadata": {},
   "source": [
    "## Load the initial dataset containing both model data (used to generate predicted data) and parameter samples from initial distribution"
   ]
  },
  {
   "cell_type": "code",
   "execution_count": null,
   "metadata": {
    "tags": []
   },
   "outputs": [],
   "source": [
    "init_data_set = mat73.loadmat('../SteelDrums/2DCase2-Feb24-2023/Prior/prior.mat')"
   ]
  },
  {
   "cell_type": "code",
   "execution_count": null,
   "metadata": {
    "tags": []
   },
   "outputs": [],
   "source": [
    "init_data_set.keys()"
   ]
  },
  {
   "cell_type": "code",
   "execution_count": null,
   "metadata": {
    "tags": []
   },
   "outputs": [],
   "source": [
    "plt.figure(1)\n",
    "plt.scatter(init_data_set['xs'], init_data_set['ys'], s=100, \n",
    "            c=np.std(init_data_set['data'][:,:,2], axis=0),\n",
    "                     marker='s')\n",
    "plt.colorbar()"
   ]
  },
  {
   "cell_type": "code",
   "execution_count": null,
   "metadata": {
    "tags": []
   },
   "outputs": [],
   "source": [
    "data_init = init_data_set['data']"
   ]
  },
  {
   "cell_type": "code",
   "execution_count": null,
   "metadata": {
    "tags": []
   },
   "outputs": [],
   "source": [
    "a0_init = init_data_set['a1']  # initial samples of first parameter\n",
    "a1_init = init_data_set['a2']  # initial samples of second parameter\n",
    "a2_init = init_data_set['a3']"
   ]
  },
  {
   "cell_type": "markdown",
   "metadata": {},
   "source": [
    "### Now load/analyze the data-generating dataset"
   ]
  },
  {
   "cell_type": "code",
   "execution_count": null,
   "metadata": {
    "tags": []
   },
   "outputs": [],
   "source": [
    "obs_data_set = mat73.loadmat('../SteelDrums/2DCase2-Feb24-2023/Observed/observed.mat')"
   ]
  },
  {
   "cell_type": "code",
   "execution_count": null,
   "metadata": {
    "tags": []
   },
   "outputs": [],
   "source": [
    "obs_data_set.keys()"
   ]
  },
  {
   "cell_type": "code",
   "execution_count": null,
   "metadata": {
    "tags": []
   },
   "outputs": [],
   "source": [
    "data_obs = obs_data_set['data']"
   ]
  },
  {
   "cell_type": "code",
   "execution_count": null,
   "metadata": {
    "tags": []
   },
   "outputs": [],
   "source": [
    "a0_obs = obs_data_set['a1']  # samples of first parameter responsible for observed data\n",
    "a1_obs = obs_data_set['a2']  # samples of second parameter responsible for observed data\n",
    "a2_obs = obs_data_set['a3']"
   ]
  },
  {
   "cell_type": "markdown",
   "metadata": {
    "tags": []
   },
   "source": [
    "## Set the precision of observable data and number of QoI to learn from each simulated experiment"
   ]
  },
  {
   "cell_type": "code",
   "execution_count": null,
   "metadata": {},
   "outputs": [],
   "source": [
    "print(np.var(data_init[:,:,0]))  # 2nd most variation\n",
    "print(np.var(data_init[:,:,1]))  # 1st most variation\n",
    "print(np.var(data_init[:,:,2]))  # 3rd most variation"
   ]
  },
  {
   "cell_type": "code",
   "execution_count": null,
   "metadata": {
    "tags": []
   },
   "outputs": [],
   "source": [
    "predicted_precision = 2\n",
    "num_predicted = 500\n",
    "\n",
    "observed_precision = 2\n",
    "num_obs = 50\n",
    "\n",
    "num_qoi = [2, 3, 1]\n",
    "\n",
    "learn_list = []\n",
    "num_sets = 3\n",
    "\n",
    "set_order = [0, 1, 2]\n",
    "\n",
    "for j in range(num_sets):\n",
    "    predicted_data = np.around(data_init[:num_predicted, :, set_order[j]], predicted_precision)\n",
    "    learn_list.append(LUQ(predicted_data))\n",
    "    learn_list[j].num_clusters = None\n",
    "    \n",
    "    learn_list[j].learn_qois_and_transform(num_qoi=num_qoi[j])\n",
    "    \n",
    "    observed_data = np.around(data_obs[:num_obs, :, set_order[j]], observed_precision)\n",
    "    learn_list[j].set_observations(observed_data)\n",
    "    \n",
    "    learn_list[j].classify_and_transform_observations()"
   ]
  },
  {
   "cell_type": "code",
   "execution_count": null,
   "metadata": {
    "tags": []
   },
   "outputs": [],
   "source": [
    "pred_maps, obs_maps = [], []\n",
    "for j in range(num_sets):\n",
    "    obs_maps_temp = learn_list[j].transform_observations()\n",
    "    pred_maps.append(learn_list[j].predict_maps)\n",
    "    obs_maps.append(obs_maps_temp)"
   ]
  },
  {
   "cell_type": "markdown",
   "metadata": {},
   "source": [
    "### Estimate the observed and (iterated) predicted density"
   ]
  },
  {
   "cell_type": "code",
   "execution_count": null,
   "metadata": {
    "tags": []
   },
   "outputs": [],
   "source": [
    "# Generate kernel density estimates on new QoI and calculate new weights\n",
    "pi_predict_kdes = []\n",
    "pi_obs_kdes = []\n",
    "r_vals = []\n",
    "r_means = []\n",
    "for j in range(num_sets):\n",
    "    pi_predict_kdes.append([])\n",
    "    pi_obs_kdes.append([])\n",
    "    r_vals.append([])\n",
    "    r_means.append([])\n",
    "    for i in range(learn_list[j].num_clusters):\n",
    "        if j==0:\n",
    "            pi_predict_kdes[j].append(GKDE(learn_list[j].predict_maps[i].T))\n",
    "            pi_obs_kdes[j].append(GKDE(learn_list[j].obs_maps[i].T))\n",
    "        elif j==1:\n",
    "            pi_predict_kdes[j].append(GKDE(learn_list[j].predict_maps[i].T, \n",
    "                                      weights = r_vals[j-1][i]))\n",
    "            pi_obs_kdes[j].append(GKDE(learn_list[j].obs_maps[i].T))\n",
    "        else:\n",
    "            r1 = r_vals[j-2][i]\n",
    "            r2 = r_vals[j-1][i]\n",
    "            pi_predict_kdes[j].append(GKDE(learn_list[j].predict_maps[i].T, \n",
    "                                      weights = r1*r2))\n",
    "            pi_obs_kdes[j].append(GKDE(learn_list[j].obs_maps[i].T))\n",
    "            \n",
    "        r_vals[j].append(\n",
    "                    np.divide(\n",
    "                        pi_obs_kdes[j][i](\n",
    "                        learn_list[j].predict_maps[i].T), \n",
    "                        pi_predict_kdes[j][i](\n",
    "                        learn_list[j].predict_maps[i].T)))\n",
    "        r_means[j].append(np.mean(r_vals[j][i]))\n",
    "print(f'Diagnostics: {r_means}')"
   ]
  },
  {
   "cell_type": "markdown",
   "metadata": {},
   "source": [
    "The actual diagnostics for the second and third iterations are computed below."
   ]
  },
  {
   "cell_type": "code",
   "execution_count": null,
   "metadata": {
    "tags": []
   },
   "outputs": [],
   "source": [
    "print(np.mean(r1*r2))\n",
    "\n",
    "print(np.mean(r1*r2*r_vals[-1][0]))"
   ]
  },
  {
   "cell_type": "markdown",
   "metadata": {},
   "source": [
    "## Construct the iterated updated marginals"
   ]
  },
  {
   "cell_type": "code",
   "execution_count": null,
   "metadata": {
    "tags": []
   },
   "outputs": [],
   "source": [
    "params = np.vstack((a0_init[:num_predicted], \n",
    "                    a1_init[:num_predicted], \n",
    "                    a2_init[:num_predicted])).T\n",
    "\n",
    "params_obs = np.vstack((a0_obs[:num_obs], \n",
    "                        a1_obs[:num_obs], \n",
    "                        a2_obs[:num_obs])).T\n",
    "\n",
    "param_marginals = []\n",
    "true_param_marginals = []\n",
    "lam_ptr = []\n",
    "\n",
    "def compute_iter_r(r_list, j):\n",
    "    r_iter = r_list[0][0]\n",
    "    for j in range(1,j+1):\n",
    "        r_iter = r_iter * r_list[j][0]\n",
    "    return r_iter\n",
    "\n",
    "for j in range(num_sets):\n",
    "    r_iter = compute_iter_r(r_vals, j)\n",
    "    print(r_iter[:10])\n",
    "    true_param_marginals.append([])\n",
    "    param_marginals.append([])\n",
    "    for i in range(params.shape[1]):\n",
    "        true_param_marginals[j].append(GKDE(params_obs[:,i]))\n",
    "        param_marginals[j].append([])\n",
    "        for k in range(learn_list[j].num_clusters):\n",
    "            param_marginals[j][i].append(GKDE(params[:, i], weights=r_iter))"
   ]
  },
  {
   "cell_type": "code",
   "execution_count": null,
   "metadata": {
    "tags": []
   },
   "outputs": [],
   "source": [
    "r_iter = compute_iter_r(r_vals, 2)\n",
    "\n",
    "np.mean(r_iter)  # Just checking that this is the same as above for the final iteration"
   ]
  },
  {
   "cell_type": "code",
   "execution_count": null,
   "metadata": {},
   "outputs": [],
   "source": [
    "x = np.linspace(0.64-0.064,0.64+0.064,20)\n",
    "\n",
    "plt.figure(4)\n",
    "plt.clf()\n",
    "plt.plot(x,true_param_marginals[j][0](x), linestyle='dashed', linewidth=2, label='KDE of DG')\n",
    "plt.plot(x,1/(x.max()-x.min())*np.ones(len(x)), linewidth=1)\n",
    "\n",
    "markers = ['o', '+', 's']\n",
    "for j in range(num_sets):\n",
    "    plt.plot(x,param_marginals[j][0][0](x), linestyle='dashdot', \n",
    "             linewidth=2, marker=markers[j], \n",
    "             label='Update; iter='+str(j))\n",
    "    \n",
    "plt.legend()\n",
    "plt.title('Estimated and Exact Variation in $a_0$')    \n",
    "plt.tight_layout()\n",
    "plt.show()"
   ]
  },
  {
   "cell_type": "code",
   "execution_count": null,
   "metadata": {},
   "outputs": [],
   "source": [
    "x = np.linspace(0.8-0.08,0.8+0.08,20)\n",
    "\n",
    "plt.figure(5)\n",
    "plt.clf()\n",
    "plt.plot(x,true_param_marginals[j][1](x), linestyle='dashed', linewidth=2, label='KDE of DG')\n",
    "plt.plot(x,1/0.16*np.ones(len(x)), linewidth=1)\n",
    "\n",
    "markers = ['o', '+', 's']\n",
    "for j in range(num_sets):\n",
    "    plt.plot(x,param_marginals[j][1][0](x), \n",
    "             linestyle='dashdot', linewidth=2, marker=markers[j],\n",
    "             label='Update; iter='+str(j))\n",
    "    \n",
    "plt.legend()\n",
    "plt.title('Estimated and Exact Variation in $a_1$')\n",
    "plt.tight_layout()\n",
    "plt.show()\n",
    "# plt.savefig('prelimresults-a0-pdfs.png', bbox_inches='tight')"
   ]
  },
  {
   "cell_type": "code",
   "execution_count": null,
   "metadata": {},
   "outputs": [],
   "source": [
    "x = np.linspace(1-0.1,1+0.1,20)\n",
    "\n",
    "plt.figure(6)\n",
    "plt.clf()\n",
    "plt.plot(x,true_param_marginals[j][2](x), linestyle='dashed', linewidth=2, label='KDE of DG')\n",
    "plt.plot(x,1/0.2*np.ones(len(x)), linewidth=2)\n",
    "\n",
    "markers = ['o', '+', 's']\n",
    "for j in range(num_sets):\n",
    "    plt.plot(x,param_marginals[j][2][0](x), \n",
    "             linestyle='dashdot', linewidth=2, marker=markers[j],\n",
    "             label='Update; iter='+str(j))\n",
    "\n",
    "plt.legend()\n",
    "plt.title('Estimated and Exact Variation in $a_2$',)\n",
    "plt.tight_layout()\n",
    "plt.show()\n",
    "# plt.savefig('prelimresults-a0-pdfs.png', bbox_inches='tight')"
   ]
  },
  {
   "cell_type": "code",
   "execution_count": null,
   "metadata": {},
   "outputs": [],
   "source": [
    "from scipy.integrate import quad as quad"
   ]
  },
  {
   "cell_type": "code",
   "execution_count": null,
   "metadata": {},
   "outputs": [],
   "source": [
    "xmins = [0.64-0.064, 0.8-0.08, 1-0.1]\n",
    "xmaxs = [0.64+0.064, 0.8+0.08, 1+0.1]\n",
    "\n",
    "for i in range(3):\n",
    "    print('~'*100)\n",
    "    print('a'+str(i)+' TV metrics')\n",
    "    print('~'*100)\n",
    "    for j in range(3):\n",
    "        print('iter = ' + str(j) + ', TV metric = {:.3f}'.format(\n",
    "            quad(lambda x: 0.5*np.abs(true_param_marginals[j][i](x) - param_marginals[j][i][0](x)),\n",
    "                 xmins[i], xmaxs[i])[0]))"
   ]
  }
 ],
 "metadata": {
  "kernelspec": {
   "display_name": "Python 3 (ipykernel)",
   "language": "python",
   "name": "python3"
  },
  "language_info": {
   "codemirror_mode": {
    "name": "ipython",
    "version": 3
   },
   "file_extension": ".py",
   "mimetype": "text/x-python",
   "name": "python",
   "nbconvert_exporter": "python",
   "pygments_lexer": "ipython3",
   "version": "3.10.6"
  },
  "latex_envs": {
   "LaTeX_envs_menu_present": true,
   "autoclose": true,
   "autocomplete": false,
   "bibliofile": "biblio.bib",
   "cite_by": "apalike",
   "current_citInitial": 1,
   "eqLabelWithNumbers": true,
   "eqNumInitial": 1,
   "hotkeys": {
    "equation": "Ctrl-E",
    "itemize": "Ctrl-I"
   },
   "labels_anchors": false,
   "latex_user_defs": false,
   "report_style_numbering": false,
   "user_envs_cfg": false
  },
  "varInspector": {
   "cols": {
    "lenName": 16,
    "lenType": 16,
    "lenVar": 40
   },
   "kernels_config": {
    "python": {
     "delete_cmd_postfix": "",
     "delete_cmd_prefix": "del ",
     "library": "var_list.py",
     "varRefreshCmd": "print(var_dic_list())"
    },
    "r": {
     "delete_cmd_postfix": ") ",
     "delete_cmd_prefix": "rm(",
     "library": "var_list.r",
     "varRefreshCmd": "cat(var_dic_list()) "
    }
   },
   "types_to_exclude": [
    "module",
    "function",
    "builtin_function_or_method",
    "instance",
    "_Feature"
   ],
   "window_display": false
  }
 },
 "nbformat": 4,
 "nbformat_minor": 4
}
